{
 "cells": [
  {
   "cell_type": "code",
   "execution_count": 63,
   "id": "256fa701-e188-466b-9aba-39937bc4015a",
   "metadata": {},
   "outputs": [],
   "source": [
    "import pyspark \n",
    "from pyspark.sql import SparkSession\n",
    "from pyspark.sql.functions import*\n",
    "from pyspark.sql.types import*\n",
    "spark = SparkSession.builder.appName('practise').getOrCreate()\n",
    "import os \n",
    "import pandas as pd"
   ]
  },
  {
   "cell_type": "code",
   "execution_count": 64,
   "id": "35880aed-a222-4217-905a-24c9a8f7f1cd",
   "metadata": {},
   "outputs": [
    {
     "data": {
      "text/html": [
       "\n",
       "            <div>\n",
       "                <p><b>SparkSession - in-memory</b></p>\n",
       "                \n",
       "        <div>\n",
       "            <p><b>SparkContext</b></p>\n",
       "\n",
       "            <p><a href=\"http://DESKTOP-I9TT3PQ:4040\">Spark UI</a></p>\n",
       "\n",
       "            <dl>\n",
       "              <dt>Version</dt>\n",
       "                <dd><code>v3.5.1</code></dd>\n",
       "              <dt>Master</dt>\n",
       "                <dd><code>local[*]</code></dd>\n",
       "              <dt>AppName</dt>\n",
       "                <dd><code>practise</code></dd>\n",
       "            </dl>\n",
       "        </div>\n",
       "        \n",
       "            </div>\n",
       "        "
      ],
      "text/plain": [
       "<pyspark.sql.session.SparkSession at 0x29be76d5110>"
      ]
     },
     "execution_count": 64,
     "metadata": {},
     "output_type": "execute_result"
    }
   ],
   "source": [
    "spark"
   ]
  },
  {
   "cell_type": "code",
   "execution_count": null,
   "id": "3f87255f-8be3-4db1-82ec-1df646bab482",
   "metadata": {},
   "outputs": [],
   "source": [
    "df=spark.read.csv(path='nuga_bank_transactions (1).csv',header=True,inferSchema=True)\n",
    "df.printSchema()"
   ]
  },
  {
   "cell_type": "code",
   "execution_count": null,
   "id": "b2575f7c-bece-468c-b2aa-0453c0755b5a",
   "metadata": {},
   "outputs": [],
   "source": [
    "for column in df.columns:\n",
    "    print(f'{column} null count :{df.where(df[column].isNull()).count()}')"
   ]
  },
  {
   "cell_type": "code",
   "execution_count": 67,
   "id": "fd20fe57-31fe-4caf-bd57-5fb8fe7c403a",
   "metadata": {},
   "outputs": [],
   "source": [
    "df = df.na.fill({\n",
    "    'Customer_Name': 'unknown',\n",
    "    'Customer_Address': 'unknown',\n",
    "    'Customer_City': 'unknown',\n",
    "    'Customer_State': 'unknown',\n",
    "    'Company': 'unknown',\n",
    "    'Job_Title': 'unknown',\n",
    "    'Email': 'unknown',\n",
    "    'Phone_Number': 0.0,\n",
    "    'Random_Number': 0.0,\n",
    "    'Credit_Card_Number': 0.0,\n",
    "    'Category': 'unknown',\n",
    "    'IBAN': 'unknown',\n",
    "    'Currency_Code': 0.0,\n",
    "    'Group': 'unknown',\n",
    "    'Is_Active': 'unknown',\n",
    "    'Last_Updated': 'unknown',\n",
    "    'Description': 'unknown',\n",
    "    'Gender': 'unknown',\n",
    "    'Marital_Status': 'unknown',\n",
    "    'Last_Updated':0.0,\n",
    "    'Customer_Country':'unknown'\n",
    "})"
   ]
  },
  {
   "cell_type": "code",
   "execution_count": null,
   "id": "f88fa6f5-ce68-42b7-97f3-d5632d2093b8",
   "metadata": {},
   "outputs": [],
   "source": [
    "for column in df.columns:\n",
    "    print(f'{column} null count :{df.where(df[column].isNull()).count()}')"
   ]
  },
  {
   "cell_type": "code",
   "execution_count": null,
   "id": "629d2b24-f519-4613-af18-f7517121318e",
   "metadata": {},
   "outputs": [],
   "source": [
    "#chaeck the column name for data modeling\n",
    "df.columns"
   ]
  },
  {
   "cell_type": "code",
   "execution_count": 69,
   "id": "3d946b2d-eed5-4fe7-967f-bca458004af7",
   "metadata": {},
   "outputs": [
    {
     "name": "stdout",
     "output_type": "stream",
     "text": [
      "+----------+----------------+--------------------+------------------+--------------+--------------------+\n",
      "|Customerid|   Customer_Name|    Customer_Address|     Customer_City|Customer_State|    Customer_Country|\n",
      "+----------+----------------+--------------------+------------------+--------------+--------------------+\n",
      "|         0|   Latoya Robles|  6874 Jones Centers|      Adamschester|      Delaware| Antigua and Barbuda|\n",
      "|         1|     Jamie Dixon|0146 Veronica Mou...|         Jonesland|      Delaware|        Saint Martin|\n",
      "|         2|     Vicki James|7987 Carr Bridge ...|           unknown| West Virginia|         Puerto Rico|\n",
      "|         3|Jennifer Kennedy|     388 Susan Forks|        East Jason|          Ohio|United States of ...|\n",
      "|         4|     Susan Green|40609 Amber Junct...|          Markfort|      Colorado|       Liechtenstein|\n",
      "|         5| Elizabeth Hicks|             unknown|           unknown|         Maine|          Micronesia|\n",
      "|         6|    Emily Foster|24260 Gilbert Bur...|        Lewishaven|  Pennsylvania|      Norfolk Island|\n",
      "|         7|    Jeffrey Gray|735 Jones Crescen...|           unknown|          Iowa|               Niger|\n",
      "|         8|  Laura Marshall|195 Michael Junction|         Susanside|       Vermont|             unknown|\n",
      "|         9|     Tina Harris|             unknown|        Jamesmouth|       Vermont|               Korea|\n",
      "|        10|     Tonya Glenn|  0375 Brown Streets|       Garnershire|     Minnesota|              Turkey|\n",
      "|        11|    Devin Haynes|809 Morris Mews S...|South Crystalburgh|    Washington|               Palau|\n",
      "|        12|Virginia Kennedy|350 Peterson Lane...|         Rickshire|    Washington|        Saint Helena|\n",
      "|        13|      Gary Walsh|  2955 Jennifer Port|   Port Sarahshire|      Oklahoma|             Uruguay|\n",
      "|        14|    Gregory Bell|0688 Harrell Village|  East Kathrynberg|       unknown|United States Vir...|\n",
      "|        15|Michael Odonnell|52636 Matthew Hav...|          Liuville|       Florida|            Portugal|\n",
      "|        16|   Bruce Barrett|    87392 Berry Burg|       Lake Sherry|      Oklahoma|         El Salvador|\n",
      "|        17|       Joy Simon|16215 Gardner Vil...|      Port Stephen|       unknown|               Sudan|\n",
      "|        18| Allison Gilbert|             unknown| West Craigborough|South Carolina|               Macao|\n",
      "|        19| Cathy Hernandez|20724 Amber Glen ...|        Powellfort|    Washington|            Barbados|\n",
      "+----------+----------------+--------------------+------------------+--------------+--------------------+\n",
      "only showing top 20 rows\n",
      "\n"
     ]
    }
   ],
   "source": [
    "# customer table from the data modeling\n",
    "customer = df.select(['Customer_Name', 'Customer_Address', 'Customer_City', 'Customer_State', 'Customer_Country']).distinct()\n",
    "customer = customer.withColumn('Customerid', monotonically_increasing_id()).distinct()\n",
    "customer=customer.select(['Customerid','Customer_Name', 'Customer_Address', 'Customer_City', 'Customer_State', 'Customer_Country']).distinct()\n",
    "customer.show()"
   ]
  },
  {
   "cell_type": "code",
   "execution_count": 72,
   "id": "b92b0361-747a-4e00-9107-a8f31458f32b",
   "metadata": {},
   "outputs": [
    {
     "name": "stdout",
     "output_type": "stream",
     "text": [
      "+-------------+--------------------+----------------+------+\n",
      "|Transactionid|    Transaction_Date|Transaction_Type|Amount|\n",
      "+-------------+--------------------+----------------+------+\n",
      "|            0|2024-04-22 19:15:...|      Withdrawal|163.92|\n",
      "|            1|2024-02-27 16:38:...|        Transfer|270.15|\n",
      "|            2|2024-02-29 07:07:...|      Withdrawal|320.56|\n",
      "|            3|2024-01-17 11:30:...|         Deposit|364.18|\n",
      "|            4|2024-04-23 08:58:...|        Transfer|997.73|\n",
      "|            5|2024-02-01 17:06:...|        Transfer|353.25|\n",
      "|            6|2024-04-24 19:56:...|         Deposit|337.15|\n",
      "|            7|2024-02-13 06:17:...|      Withdrawal|251.91|\n",
      "|            8|2024-02-18 00:26:...|         Deposit|281.84|\n",
      "|            9|2024-03-22 09:55:...|        Transfer| 23.87|\n",
      "|           10|2024-03-16 00:18:...|        Transfer|978.53|\n",
      "|           11|2024-02-21 21:58:...|      Withdrawal|423.97|\n",
      "|           12|2024-04-01 07:04:...|      Withdrawal|270.33|\n",
      "|           13|2024-03-22 20:57:...|         Deposit|446.61|\n",
      "|           14|2024-03-22 01:48:...|        Transfer|161.08|\n",
      "|           15|2024-03-29 19:51:...|      Withdrawal|350.54|\n",
      "|           16|2024-02-28 14:32:...|      Withdrawal|  87.4|\n",
      "|           17|2024-02-26 12:41:...|        Transfer|585.76|\n",
      "|           18|2024-04-27 08:11:...|        Transfer|510.24|\n",
      "|           19|2024-02-21 03:24:...|         Deposit|701.72|\n",
      "+-------------+--------------------+----------------+------+\n",
      "only showing top 20 rows\n",
      "\n"
     ]
    }
   ],
   "source": [
    "Transaction = df.select(['Transaction_Date','Transaction_Type','Amount']).distinct()\n",
    "Transaction =Transaction.withColumn('Transactionid',monotonically_increasing_id())\n",
    "Transaction =Transaction .select(['Transactionid','Transaction_Date','Transaction_Type','Amount'])\n",
    "Transaction .show()"
   ]
  },
  {
   "cell_type": "code",
   "execution_count": 73,
   "id": "05d740db-dc20-4e07-8a84-1df170694685",
   "metadata": {},
   "outputs": [
    {
     "name": "stdout",
     "output_type": "stream",
     "text": [
      "+----------+--------------------+--------+--------------------+-------+--------------+\n",
      "|Employeeid|             Company|Category|           Job_Title| Gender|Marital_Status|\n",
      "+----------+--------------------+--------+--------------------+-------+--------------+\n",
      "|         0|           Adams Inc|       B|       Ranger/warden|  Other|      Divorced|\n",
      "|         1|        Mann-Ramirez|       A|Production design...| Female|        Single|\n",
      "|         2|          Vega Group|       C|Scientist, clinic...|  Other|      Divorced|\n",
      "|         3|   Valenzuela-Wilson|       D|Forest/woodland m...|  Other|        Single|\n",
      "|         4|    Johnson and Sons|       D|Fitness centre ma...|   Male|        Single|\n",
      "|         5|Novak, Baker and Lee|       C|         Media buyer|  Other|       unknown|\n",
      "|         6|             unknown|       A|   Buyer, industrial|  Other|      Divorced|\n",
      "|         7|             unknown|       A|      Data scientist| Female|        Single|\n",
      "|         8|             unknown|       B|Historic building...|unknown|        Single|\n",
      "|         9|Macdonald, Owens ...|       D|Architectural tec...| Female|       Married|\n",
      "|        10|Barr, Mendez and ...|       A|             unknown|  Other|      Divorced|\n",
      "|        11|Cooper, Brown and...|       C|    Insurance broker|  Other|       unknown|\n",
      "|        12|     Phillips-Carter|       C| Production engineer|   Male|      Divorced|\n",
      "|        13|     Mcintyre-Meyers|       D|Speech and langua...| Female|       unknown|\n",
      "|        14|            Wood Ltd|       C|  Purchasing manager|   Male|        Single|\n",
      "|        15|Martinez, Brown a...|       B|Programmer, appli...|   Male|        Single|\n",
      "|        16|            Long PLC|       D|Horticulturist, c...|   Male|       Married|\n",
      "|        17|Johnson, Miller a...|       B|     Systems analyst|unknown|       unknown|\n",
      "|        18|Gilmore, Nelson a...|       A|Hydrographic surv...| Female|        Single|\n",
      "|        19|          Baker-Pena|       A|Historic building...| Female|       Married|\n",
      "+----------+--------------------+--------+--------------------+-------+--------------+\n",
      "only showing top 20 rows\n",
      "\n"
     ]
    }
   ],
   "source": [
    "Employee=df.select(['Company','Category','Job_Title','Gender','Marital_Status']).distinct()\n",
    "Employee=Employee.withColumn('Employeeid',monotonically_increasing_id()).distinct()\n",
    "Employee=Employee.select(['Employeeid','Company','Category','Job_Title','Gender','Marital_Status'])\n",
    "Employee.show()"
   ]
  },
  {
   "cell_type": "code",
   "execution_count": 75,
   "id": "59c9b95a-bf37-4929-9c97-94c0f2919b94",
   "metadata": {},
   "outputs": [],
   "source": [
    "FactTable = df.join(customer,['Customer_Name', 'Customer_Address', 'Customer_City', 'Customer_State', 'Customer_Country'],'left')\\\n",
    "            .join(Transaction,['Transaction_Date','Transaction_Type','Amount'], 'left')\\\n",
    "            .join(Employee,['Company','Category','Job_Title','Gender','Marital_Status'],'left')\n",
    "          "
   ]
  },
  {
   "cell_type": "code",
   "execution_count": null,
   "id": "907bb37a-eae7-47af-a954-2d37c1e41599",
   "metadata": {},
   "outputs": [],
   "source": [
    "FactTable=FactTable.withColumn('Factid',monotonically_increasing_id()).distinct()\n",
    "FactTable=FactTable.select(['Factid','Transactionid','Employeeid','Customerid','Credit_Card_Number','IBAN','Currency_Code','Random_Number','Last_Updated','Description','Is_Active','Group']).distinct()\n",
    "FactTable.show()"
   ]
  },
  {
   "cell_type": "code",
   "execution_count": null,
   "id": "b5e8b7b0-980c-4083-96a0-88cd1400dde9",
   "metadata": {},
   "outputs": [],
   "source": [
    "FactTable.toPandas().to_csv('FactTable.csv', index=False)"
   ]
  },
  {
   "cell_type": "code",
   "execution_count": null,
   "id": "1c07daa8-815c-4a49-8ee9-f6dcf3dea93a",
   "metadata": {},
   "outputs": [],
   "source": [
    "Employee.toPandas().to_csv('Employee.csv', index=False)\n"
   ]
  },
  {
   "cell_type": "code",
   "execution_count": 88,
   "id": "2d1ed7b0-ea70-4558-87eb-8a834c0027fa",
   "metadata": {},
   "outputs": [],
   "source": [
    "Transaction.toPandas().to_csv('Transaction.csv', index=False)\n",
    "\n"
   ]
  },
  {
   "cell_type": "code",
   "execution_count": null,
   "id": "9e1e2179-6ed5-4e92-b5b1-c64bb677467c",
   "metadata": {},
   "outputs": [],
   "source": [
    "customer.toPandas().to_csv('customer.csv', index=False)\n"
   ]
  },
  {
   "cell_type": "code",
   "execution_count": null,
   "id": "fbcbb879-451f-4be1-888b-b58feeced142",
   "metadata": {},
   "outputs": [],
   "source": [
    "import psycopg2\n",
    "from sqlalchemy import create_engine\n",
    "\n",
    "conn = None\n",
    "try:\n",
    "    print('Connecting to the database...')\n",
    "    conn = psycopg2.connect(\n",
    "        host='localhost',\n",
    "        user='postgres',\n",
    "        dbname='bluewave',\n",
    "        password='1',\n",
    "        port=5432\n",
    "    )\n",
    "    \n",
    "    print('Connected to the database!')\n",
    "\n",
    "    cur = conn.cursor()\n",
    "    cur.execute('SELECT version()')\n",
    "    result = cur.fetchone()\n",
    "    print(result)\n",
    "\n",
    "except (Exception, psycopg2.DatabaseError) as error:\n",
    "    print('Error:', error)\n",
    "finally:\n",
    "    if conn is not None:\n",
    "        conn.close()\n",
    "        print('Database connection closed.')\n",
    "\n",
    "\n"
   ]
  },
  {
   "cell_type": "code",
   "execution_count": null,
   "id": "fb82cbe9-b217-4484-bd3c-eec92d670db4",
   "metadata": {},
   "outputs": [],
   "source": []
  }
 ],
 "metadata": {
  "kernelspec": {
   "display_name": "pyspark-env",
   "language": "python",
   "name": "pyspark-env"
  },
  "language_info": {
   "codemirror_mode": {
    "name": "ipython",
    "version": 3
   },
   "file_extension": ".py",
   "mimetype": "text/x-python",
   "name": "python",
   "nbconvert_exporter": "python",
   "pygments_lexer": "ipython3",
   "version": "3.11.7"
  }
 },
 "nbformat": 4,
 "nbformat_minor": 5
}
